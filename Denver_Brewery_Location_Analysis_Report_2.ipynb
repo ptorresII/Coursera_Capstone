{
 "cells": [
  {
   "cell_type": "markdown",
   "metadata": {},
   "source": [
    "<h1><center>Denver Brewery Location Analysis</center></h1>"
   ]
  },
  {
   "cell_type": "markdown",
   "metadata": {},
   "source": [
    "<h3><center>Phillip Torres</center></h3>"
   ]
  },
  {
   "cell_type": "markdown",
   "metadata": {},
   "source": [
    "### 2. Data acquisition"
   ]
  },
  {
   "cell_type": "markdown",
   "metadata": {},
   "source": [
    "##### 2.1 Data sources"
   ]
  },
  {
   "cell_type": "markdown",
   "metadata": {},
   "source": [
    "The first data set is a list of over 7000 breweries and brewpubs in the U.S. provided by the Datafinity Business Database and hosted on Kaggle. The data set includes brewery information such as category, name, address, city, latitude, longitude, and state. The brewery data set can be found on here on Kaggle. The second data set will be created in the project by calling the Foursquare API, for geolocation data based on location coordinates. This data set will use the geolocation data from breweries in Denver Colorado to collect neighboring business location data in a dataset that will be appended to the first brewery data set in order to create a single dataset for analysis. \n",
    "\n",
    "The larger composite dataset will be cleaned and used for clustering in order to derive information and key metrics about existing brewery’s and there buisness neighbors, and neighborhoods. This will help individuals or groups looking to open a brewery in Denver, make more informed decisions about a new buisness location. Visualizing this data will help derive potential brewery locations. This project could potentially save time and money narrowing down potential locations for a brewery."
   ]
  }
 ],
 "metadata": {
  "kernelspec": {
   "display_name": "Python 3",
   "language": "python",
   "name": "python3"
  },
  "language_info": {
   "codemirror_mode": {
    "name": "ipython",
    "version": 3
   },
   "file_extension": ".py",
   "mimetype": "text/x-python",
   "name": "python",
   "nbconvert_exporter": "python",
   "pygments_lexer": "ipython3",
   "version": "3.7.3"
  }
 },
 "nbformat": 4,
 "nbformat_minor": 2
}
